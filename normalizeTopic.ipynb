{
 "cells": [
  {
   "cell_type": "code",
   "execution_count": 70,
   "id": "df8a1c26-1f96-4bc6-9fcf-85c7148a3984",
   "metadata": {},
   "outputs": [],
   "source": [
    "import pathlib\n",
    "import textwrap\n",
    "import pandas as pd\n",
    "import numpy as np\n",
    "import os\n",
    "from tqdm import tqdm\n",
    "import json\n",
    "import re\n",
    "import threading\n",
    "import queue\n",
    "import time\n",
    "\n",
    "import google.generativeai as genai\n",
    "\n",
    "from IPython.display import display\n",
    "from IPython.display import Markdown\n",
    "\n",
    "\n",
    "def to_markdown(text):\n",
    "  text = text.replace('•', '  *')\n",
    "  return Markdown(textwrap.indent(text, '> ', predicate=lambda _: True))"
   ]
  },
  {
   "cell_type": "code",
   "execution_count": 71,
   "id": "c2ddec8d-c354-4835-b52a-d69090e438cc",
   "metadata": {},
   "outputs": [],
   "source": [
    "# Or use `os.getenv('GOOGLE_API_KEY')` to fetch an environment variable.\n",
    "GOOGLE_API_KEY=var = os.environ['GOOGLE_API_KEY']\n",
    "genai.configure(api_key=GOOGLE_API_KEY)"
   ]
  },
  {
   "cell_type": "code",
   "execution_count": 72,
   "id": "8e4ca357-c9f5-4a2a-88d6-11be30ffe000",
   "metadata": {},
   "outputs": [],
   "source": [
    "def parseTopic(rawtopics):\n",
    "    topics=[]\n",
    "    try:\n",
    "        topics=json.loads(re.findall(r\"\\{.*\\}\",rawtopics.text)[0])[\"main_topics\"]\n",
    "    except Exception as e:\n",
    "        pass\n",
    "    finally:\n",
    "        return topics"
   ]
  },
  {
   "cell_type": "code",
   "execution_count": 73,
   "id": "5b317e64-4067-4edc-9a51-1dd8b3db3826",
   "metadata": {},
   "outputs": [],
   "source": [
    "def getTopics(model,descr,repo=None,queue=None):\n",
    "    ques=f\"Can you extract a list of main topics from the following text and output it in  a json format ? for the json you should strictly follow the following format {{\\\"main_topics\\\":[]}}. Please ensure the output is in UTF-8 and json compliant. Please try to extract topic synthetic as possible. Here is the text from which extract topics: '{descr}'\"\n",
    "    resp = model.generate_content(ques)\n",
    "    topics=parseTopic(resp)\n",
    "    if(queue is not None):\n",
    "        queue.put([repo]+topics)\n",
    "    return topics"
   ]
  },
  {
   "cell_type": "code",
   "execution_count": 74,
   "id": "8dcb6ff8-2d46-41ee-a851-dfef950148c4",
   "metadata": {},
   "outputs": [],
   "source": [
    "model = genai.GenerativeModel('gemini-1.5-flash')"
   ]
  },
  {
   "cell_type": "code",
   "execution_count": 75,
   "id": "b6bedaa8-c562-4220-93b2-612287131d59",
   "metadata": {},
   "outputs": [
    {
     "name": "stdout",
     "output_type": "stream",
     "text": [
      "(348891, 3)\n"
     ]
    }
   ],
   "source": [
    "desc=pd.read_csv(\"en_desc.csv\",names=[\"oldidx\",\"repo\",\"desc\"],header=0)\n",
    "desc[\"repo\"]=desc[\"repo\"].apply(lambda x:x.strip())\n",
    "desc[\"desc\"]=desc[\"desc\"].apply(lambda x:x.strip())\n",
    "\n",
    "print(desc.shape)"
   ]
  },
  {
   "cell_type": "code",
   "execution_count": 76,
   "id": "eed08c8b-3926-44f2-8723-75654f51b75f",
   "metadata": {},
   "outputs": [
    {
     "name": "stdout",
     "output_type": "stream",
     "text": [
      "execution time 1.8834402561187744\n"
     ]
    }
   ],
   "source": [
    "q = queue.Queue()\n",
    "workers=[]\n",
    "#for idx in range(desc.shape[0]):\n",
    "st=time.time()\n",
    "for idx in range(100):\n",
    "    reponame=desc.iloc[idx][\"repo\"]\n",
    "    workers+=[threading.Thread(target=getTopics, args=(model,desc.iloc[idx][\"desc\"],reponame,q))]\n",
    "    workers[-1].start()\n",
    "    #workers[-1].join()\n",
    "for w in workers:\n",
    "    w.join()\n",
    "print(f\"execution time {time.time()-st}\")"
   ]
  },
  {
   "cell_type": "code",
   "execution_count": 68,
   "id": "29c468d7-fda0-4d15-a5ce-94937dbc7aad",
   "metadata": {},
   "outputs": [
    {
     "name": "stdout",
     "output_type": "stream",
     "text": [
      "100\n",
      "['sindresorhus/awesome', 'Interesting Topics', 'Lists']\n",
      "['tensorflow/tensorflow', 'Open Source Machine Learning', 'Framework', 'Accessibility']\n",
      "['trekhleb/javascript-algorithms', 'Algorithms', 'Data Structures', 'JavaScript']\n",
      "['vinta/awesome-python', 'Python frameworks', 'Python libraries', 'Python software', 'Python resources']\n",
      "['axios/axios', 'HTTP client', 'Promise-based', 'Browser', 'Node.js']\n",
      "['donnemartin/system-design-primer', 'System Design', 'Interview Preparation', 'Anki Flashcards']\n",
      "['kubernetes/kubernetes', 'Container Scheduling', 'Container Management', 'Production Environments']\n",
      "['30-seconds/30-seconds-of-code', 'Code Snippets', 'Development']\n",
      "['public-apis/public-apis', 'Free APIs', 'API Resources']\n",
      "['jlevy/the-art-of-command-line', 'Command Line Mastery']\n",
      "['codecrafters-io/build-your-own-x', 'Programming', 'Learning by Building', 'Project-Based Learning', 'Technology Recreation']\n",
      "['puppeteer/puppeteer', 'Node.js', 'Chrome API']\n",
      "['golang/go', 'Go programming language']\n",
      "['tensorflow/models', 'TensorFlow Models', 'TensorFlow Examples']\n",
      "['ryanmcdermott/clean-code-javascript', 'Clean Code', 'JavaScript']\n",
      "['github/gitignore', 'gitignore templates']\n",
      "['mtdvio/every-programmer-should-know', 'Software Development Knowledge', 'Technical Skills']\n",
      "['facebook/react-native', 'React Native App Development', 'Framework']\n",
      "['jwasham/coding-interview-university', 'Software Engineering', 'Computer Science Study Plan']\n",
      "['nvbn/thefuck', 'Command Line Correction', 'Application Development']\n",
      "['pallets/flask', 'Python web development', 'Micro framework']\n",
      "['facebook/create-react-app', 'Web App Development', 'Command Line Tools', 'Modern Web Development']\n",
      "['microsoft/terminal', 'Windows Terminal', 'Windows Console Host']\n",
      "['f/awesome-chatgpt-prompts', 'ChatGPT prompt curation', 'Effective ChatGPT usage']\n",
      "['mui/material-ui', 'MUI Core', 'React components', 'Material UI', 'Material Design']\n",
      "['mrdoob/three.js', 'JavaScript 3D Libraries']\n",
      "['facebook/react', 'User Interfaces', 'Web Development', 'Native Development', 'Libraries']\n",
      "['gohugoio/hugo', 'Website Development', 'Frameworks', 'Speed']\n",
      "['twbs/bootstrap', 'Web Development', 'Frameworks', 'Responsive Design', 'Mobile First']\n",
      "['sveltejs/svelte']\n",
      "['reduxjs/redux', 'State Management', 'JavaScript', 'Predictability', 'Containers']\n",
      "['bitcoin/bitcoin', 'Bitcoin Core', 'Integration', 'Staging']\n",
      "['iluwatar/java-design-patterns', 'Java', 'Design Patterns']\n",
      "['rust-lang/rust', 'Software Development', 'Efficiency', 'Reliability', 'Empowerment']\n",
      "['angular/angular', 'Web Development Platforms']\n",
      "['tailwindlabs/tailwindcss', 'CSS framework', 'UI development', 'utility-first']\n",
      "['flutter/flutter', 'Flutter', 'App Development', 'Mobile Development', 'Cross-Platform Development', 'UI Design']\n",
      "['fatedier/frp', 'reverse proxy', 'local server access', 'NAT/firewall bypass']\n",
      "['ant-design/ant-design', 'UI Design Language', 'React UI Library', 'Enterprise-class']\n",
      "['florinpop17/app-ideas', 'Coding Skill Improvement', 'Application Ideas']\n",
      "['huggingface/transformers', 'Transformers', 'Machine Learning', 'PyTorch', 'TensorFlow', 'JAX']\n",
      "['keras-team/keras', 'Deep Learning']\n",
      "['yangshun/tech-interview-handbook', 'Coding Interview Preparation', 'Software Engineering']\n",
      "['home-assistant/core', 'Open source home automation', 'Local control', 'Privacy']\n",
      "['socketio/socket.io', 'Realtime application framework', 'Node.JS server']\n",
      "['neovim/neovim', 'Vim fork', 'Extensibility', 'Usability']\n",
      "['denoland/deno', 'JavaScript runtime', 'TypeScript runtime', 'Modern runtime']\n",
      "['protocolbuffers/protobuf', 'Protocol Buffers', 'Data Interchange Format', 'Google']\n",
      "['coder/code-server', 'Visual Studio Code', 'Web Development', 'Cloud IDE']\n",
      "['storybookjs/storybook', 'UI development', 'Component building', 'Testing', 'Documentation']\n",
      "['angular/angular.js', 'AngularJS', 'HTML', 'Web Development']\n",
      "['moby/moby', 'Container Ecosystem', 'Collaborative Project', 'Moby Project', 'Container-based Systems']\n",
      "['apache/echarts', 'Data Visualization', 'Charting', 'JavaScript Library', 'Web Development']\n",
      "['junegunn/fzf', 'Fuzzy finder', 'Command-line tool']\n",
      "['nvm-sh/nvm', 'Node Version Manager', 'Node.js Version Management', 'Bash Scripting', 'POSIX Compliance']\n",
      "['opencv/opencv', 'Computer Vision', 'Open Source', 'Library']\n",
      "['iptv-org/iptv', 'IPTV', 'TV Channels', 'Global Content']\n",
      "['atom/atom', 'Text Editor', 'Hackable', 'Atom']\n",
      "['josephmisiti/awesome-machine-learning', 'Machine Learning', 'Frameworks', 'Libraries', 'Software']\n",
      "['twitter/the-algorithm', 'Twitter Recommendation Algorithm', 'Source Code']\n",
      "['kelseyhightower/nocode', 'Secure Application Development', 'Reliability in Software', 'Minimalism in Software Development']\n",
      "['avelino/awesome-go', 'Go Frameworks', 'Go Libraries', 'Go Software']\n",
      "['yt-dlp/yt-dlp', 'youtube-dl fork', 'additional features', 'fixes']\n",
      "['vitejs/vite', 'Frontend tooling', 'Performance']\n",
      "['django/django', 'Web framework', 'Perfectionism', 'Deadlines']\n",
      "['kamranahmedse/developer-roadmap', 'Developer Education', 'Career Growth', 'Interactive Learning', 'Roadmaps', 'Guides']\n",
      "['apple/swift', 'Swift Programming Language']\n",
      "['anuraghazra/github-readme-stats', 'GitHub Readme', 'Dynamic Stats', 'Generated Content']\n",
      "['d3/d3', 'Data Visualization', 'SVG', 'Canvas', 'HTML']\n",
      "['gothinkster/realworld', 'Fullstack Development', 'Medium.com Clone', 'Demo App', 'React', 'Angular', 'Node', 'Django']\n",
      "['jquery/jquery', 'JavaScript', 'jQuery']\n",
      "['lodash/lodash', 'JavaScript utility library', 'modularity', 'performance', 'extras']\n",
      "['ohmyzsh/ohmyzsh', 'zsh configuration management', 'community-driven framework', 'plugins', 'themes', 'auto-update tool']\n",
      "['python/cpython', 'Python programming language']\n",
      "['vuejs/awesome-vue', 'Vue.js', 'resources', 'curated list', 'awesome things']\n",
      "['vercel/next.js', 'React']\n",
      "['ansible/ansible', 'IT automation', 'application deployment', 'system maintenance', 'network configuration', 'cloud management', 'SSH', 'agentless']\n",
      "['langchain-ai/langchain', 'LLM Applications', 'Composability']\n",
      "['typicode/json-server', 'Fake REST API', 'Zero Coding', 'Rapid Prototyping']\n",
      "['microsoft/playwright', 'Web Testing', 'Web Automation', 'Playwright', 'Cross-browser Testing']\n",
      "['vuejs/vue', 'Vue.js', 'Version 2', 'Repository', 'Vue.js 3']\n",
      "['pytorch/pytorch', 'Tensors', 'Dynamic Neural Networks', 'Python', 'GPU Acceleration']\n",
      "['goldbergyoni/nodebestpractices', 'Node.js best practices']\n",
      "['tauri-apps/tauri', 'Desktop Application Development', 'Web Frontend Development', 'Performance Optimization', 'Security']\n",
      "['godotengine/godot', 'Game Engine', 'Godot Engine', '2D Games', '3D Games', 'Multi-platform']\n",
      "['tiangolo/fastapi', 'FastAPI framework', 'performance', 'ease of use', 'development speed', 'production readiness']\n",
      "['strapi/strapi', 'Strapi', 'Headless CMS', 'Open Source', 'JavaScript', 'Customization', 'Developer-First']\n",
      "['gin-gonic/gin', 'Gin', 'HTTP web framework', 'Go (Golang)', 'Martini-like API', 'performance']\n",
      "['doocs/advanced-java', 'Java Backend Developer Interview Questions', 'Java Engineer Advancement', 'High Concurrency', 'Distributed Systems', 'High Availability', 'Microservices', 'Large Data Processing']\n",
      "['netdata/netdata', 'Server monitoring', 'Container monitoring', 'Application monitoring', 'Real-time monitoring', 'High-resolution monitoring']\n",
      "['ripienaar/free-for-dev', 'SaaS', 'PaaS', 'IaaS', 'Free Tiers', 'DevOps', 'Infrastructure Development']\n",
      "['adam-p/markdown-here', 'Markdown email writing', 'Browser extensions', 'Google Chrome', 'Firefox', 'Thunderbird']\n",
      "['laravel/laravel', 'Laravel', 'Web Application Framework', 'Expressive Syntax', 'Elegant Syntax', 'Foundation for Development', 'Focus on Creativity']\n",
      "['nestjs/nest', 'Node.js framework', 'Server-side applications', 'TypeScript/JavaScript', 'Efficiency', 'Scalability', 'Enterprise-grade']\n",
      "['electron/electron', 'Cross-platform desktop app development', 'JavaScript', 'HTML', 'CSS']\n",
      "['trimstray/the-book-of-secret-knowledge', 'Inspirational resources', 'Guides and manuals', 'Cheat sheets', 'Blogs and articles', 'Hacks and tips', 'One-liners', 'Command-line tools', 'Web tools']\n",
      "['mermaid-js/mermaid', 'Diagram Generation', 'Text-to-Diagram', 'Flowcharts', 'Sequence Diagrams', 'Markdown']\n",
      "['jaywcjlove/awesome-mac', 'Growth and Change', 'Original Vision', 'Premium Software Collection']\n",
      "['webpack/webpack', 'JavaScript Bundling', 'Module Packaging', 'Code Splitting', 'Module Formats (CommonJs, AMD, ES6)', 'Asset Management (CSS, Images, JSON, etc.)']\n",
      "['bregman-arie/devops-exercises', 'DevOps', 'Cloud Computing', 'Infrastructure as Code', 'Automation', 'Containerization', 'Monitoring', 'Version Control', 'Networking', 'Databases']\n"
     ]
    }
   ],
   "source": [
    "print(q.qsize())\n",
    "while not q.empty():\n",
    "    print(q.get())"
   ]
  },
  {
   "cell_type": "code",
   "execution_count": 84,
   "id": "a77ea6d7-a3a3-44ee-bf9f-f1e7e785f499",
   "metadata": {},
   "outputs": [
    {
     "name": "stderr",
     "output_type": "stream",
     "text": [
      "  1%|▉                                                                                                                       | 2835/348891 [47:59<97:38:38,  1.02s/it]\n"
     ]
    },
    {
     "ename": "DeadlineExceeded",
     "evalue": "504 Deadline Exceeded",
     "output_type": "error",
     "traceback": [
      "\u001b[0;31m---------------------------------------------------------------------------\u001b[0m",
      "\u001b[0;31mDeadlineExceeded\u001b[0m                          Traceback (most recent call last)",
      "Cell \u001b[0;32mIn[84], line 4\u001b[0m\n\u001b[1;32m      2\u001b[0m \u001b[38;5;28;01mfor\u001b[39;00m idx \u001b[38;5;129;01min\u001b[39;00m tqdm(\u001b[38;5;28mrange\u001b[39m(desc\u001b[38;5;241m.\u001b[39mshape[\u001b[38;5;241m0\u001b[39m])):\n\u001b[1;32m      3\u001b[0m     reponame\u001b[38;5;241m=\u001b[39mdesc\u001b[38;5;241m.\u001b[39miloc[idx][\u001b[38;5;124m\"\u001b[39m\u001b[38;5;124mrepo\u001b[39m\u001b[38;5;124m\"\u001b[39m]\n\u001b[0;32m----> 4\u001b[0m     rawtopics\u001b[38;5;241m=\u001b[39m\u001b[43mgetTopics\u001b[49m\u001b[43m(\u001b[49m\u001b[43mmodel\u001b[49m\u001b[43m,\u001b[49m\u001b[43m \u001b[49m\u001b[43mdesc\u001b[49m\u001b[38;5;241;43m.\u001b[39;49m\u001b[43miloc\u001b[49m\u001b[43m[\u001b[49m\u001b[43midx\u001b[49m\u001b[43m]\u001b[49m\u001b[43m[\u001b[49m\u001b[38;5;124;43m\"\u001b[39;49m\u001b[38;5;124;43mdesc\u001b[39;49m\u001b[38;5;124;43m\"\u001b[39;49m\u001b[43m]\u001b[49m\u001b[43m)\u001b[49m\n\u001b[1;32m      5\u001b[0m     \u001b[38;5;28;01mtry\u001b[39;00m:\n\u001b[1;32m      6\u001b[0m         topics\u001b[38;5;241m=\u001b[39mjson\u001b[38;5;241m.\u001b[39mloads(re\u001b[38;5;241m.\u001b[39mfindall(\u001b[38;5;124mr\u001b[39m\u001b[38;5;124m\"\u001b[39m\u001b[38;5;124m\\\u001b[39m\u001b[38;5;124m{\u001b[39m\u001b[38;5;124m.*\u001b[39m\u001b[38;5;124m\\\u001b[39m\u001b[38;5;124m}\u001b[39m\u001b[38;5;124m\"\u001b[39m,rawtopics\u001b[38;5;241m.\u001b[39mtext)[\u001b[38;5;241m0\u001b[39m])[\u001b[38;5;124m\"\u001b[39m\u001b[38;5;124mmain_topics\u001b[39m\u001b[38;5;124m\"\u001b[39m]\n",
      "Cell \u001b[0;32mIn[77], line 3\u001b[0m, in \u001b[0;36mgetTopics\u001b[0;34m(model, descr)\u001b[0m\n\u001b[1;32m      1\u001b[0m \u001b[38;5;28;01mdef\u001b[39;00m \u001b[38;5;21mgetTopics\u001b[39m(model,descr):\n\u001b[1;32m      2\u001b[0m     ques\u001b[38;5;241m=\u001b[39m\u001b[38;5;124mf\u001b[39m\u001b[38;5;124m\"\u001b[39m\u001b[38;5;124mCan you extract a list of main topics from the following text and output it in  a json format ? for the json you should strictly follow the following format \u001b[39m\u001b[38;5;130;01m{{\u001b[39;00m\u001b[38;5;130;01m\\\"\u001b[39;00m\u001b[38;5;124mmain_topics\u001b[39m\u001b[38;5;130;01m\\\"\u001b[39;00m\u001b[38;5;124m:[]\u001b[39m\u001b[38;5;130;01m}}\u001b[39;00m\u001b[38;5;124m. Please ensure the output is in UTF-8 and json compliant.  Here is the text from which extract topics: \u001b[39m\u001b[38;5;124m'\u001b[39m\u001b[38;5;132;01m{\u001b[39;00mdescr\u001b[38;5;132;01m}\u001b[39;00m\u001b[38;5;124m'\u001b[39m\u001b[38;5;124m\"\u001b[39m\n\u001b[0;32m----> 3\u001b[0m     resp \u001b[38;5;241m=\u001b[39m \u001b[43mmodel\u001b[49m\u001b[38;5;241;43m.\u001b[39;49m\u001b[43mgenerate_content\u001b[49m\u001b[43m(\u001b[49m\u001b[43mques\u001b[49m\u001b[43m)\u001b[49m\n\u001b[1;32m      4\u001b[0m     \u001b[38;5;28;01mreturn\u001b[39;00m resp\n",
      "File \u001b[0;32m~/Library/Python/3.9/lib/python/site-packages/google/generativeai/generative_models.py:262\u001b[0m, in \u001b[0;36mGenerativeModel.generate_content\u001b[0;34m(self, contents, generation_config, safety_settings, stream, tools, tool_config, request_options)\u001b[0m\n\u001b[1;32m    260\u001b[0m         \u001b[38;5;28;01mreturn\u001b[39;00m generation_types\u001b[38;5;241m.\u001b[39mGenerateContentResponse\u001b[38;5;241m.\u001b[39mfrom_iterator(iterator)\n\u001b[1;32m    261\u001b[0m     \u001b[38;5;28;01melse\u001b[39;00m:\n\u001b[0;32m--> 262\u001b[0m         response \u001b[38;5;241m=\u001b[39m \u001b[38;5;28;43mself\u001b[39;49m\u001b[38;5;241;43m.\u001b[39;49m\u001b[43m_client\u001b[49m\u001b[38;5;241;43m.\u001b[39;49m\u001b[43mgenerate_content\u001b[49m\u001b[43m(\u001b[49m\n\u001b[1;32m    263\u001b[0m \u001b[43m            \u001b[49m\u001b[43mrequest\u001b[49m\u001b[43m,\u001b[49m\n\u001b[1;32m    264\u001b[0m \u001b[43m            \u001b[49m\u001b[38;5;241;43m*\u001b[39;49m\u001b[38;5;241;43m*\u001b[39;49m\u001b[43mrequest_options\u001b[49m\u001b[43m,\u001b[49m\n\u001b[1;32m    265\u001b[0m \u001b[43m        \u001b[49m\u001b[43m)\u001b[49m\n\u001b[1;32m    266\u001b[0m         \u001b[38;5;28;01mreturn\u001b[39;00m generation_types\u001b[38;5;241m.\u001b[39mGenerateContentResponse\u001b[38;5;241m.\u001b[39mfrom_response(response)\n\u001b[1;32m    267\u001b[0m \u001b[38;5;28;01mexcept\u001b[39;00m google\u001b[38;5;241m.\u001b[39mapi_core\u001b[38;5;241m.\u001b[39mexceptions\u001b[38;5;241m.\u001b[39mInvalidArgument \u001b[38;5;28;01mas\u001b[39;00m e:\n",
      "File \u001b[0;32m~/Library/Python/3.9/lib/python/site-packages/google/ai/generativelanguage_v1beta/services/generative_service/client.py:812\u001b[0m, in \u001b[0;36mGenerativeServiceClient.generate_content\u001b[0;34m(self, request, model, contents, retry, timeout, metadata)\u001b[0m\n\u001b[1;32m    809\u001b[0m \u001b[38;5;28mself\u001b[39m\u001b[38;5;241m.\u001b[39m_validate_universe_domain()\n\u001b[1;32m    811\u001b[0m \u001b[38;5;66;03m# Send the request.\u001b[39;00m\n\u001b[0;32m--> 812\u001b[0m response \u001b[38;5;241m=\u001b[39m \u001b[43mrpc\u001b[49m\u001b[43m(\u001b[49m\n\u001b[1;32m    813\u001b[0m \u001b[43m    \u001b[49m\u001b[43mrequest\u001b[49m\u001b[43m,\u001b[49m\n\u001b[1;32m    814\u001b[0m \u001b[43m    \u001b[49m\u001b[43mretry\u001b[49m\u001b[38;5;241;43m=\u001b[39;49m\u001b[43mretry\u001b[49m\u001b[43m,\u001b[49m\n\u001b[1;32m    815\u001b[0m \u001b[43m    \u001b[49m\u001b[43mtimeout\u001b[49m\u001b[38;5;241;43m=\u001b[39;49m\u001b[43mtimeout\u001b[49m\u001b[43m,\u001b[49m\n\u001b[1;32m    816\u001b[0m \u001b[43m    \u001b[49m\u001b[43mmetadata\u001b[49m\u001b[38;5;241;43m=\u001b[39;49m\u001b[43mmetadata\u001b[49m\u001b[43m,\u001b[49m\n\u001b[1;32m    817\u001b[0m \u001b[43m\u001b[49m\u001b[43m)\u001b[49m\n\u001b[1;32m    819\u001b[0m \u001b[38;5;66;03m# Done; return the response.\u001b[39;00m\n\u001b[1;32m    820\u001b[0m \u001b[38;5;28;01mreturn\u001b[39;00m response\n",
      "File \u001b[0;32m~/Library/Python/3.9/lib/python/site-packages/google/api_core/gapic_v1/method.py:131\u001b[0m, in \u001b[0;36m_GapicCallable.__call__\u001b[0;34m(self, timeout, retry, compression, *args, **kwargs)\u001b[0m\n\u001b[1;32m    128\u001b[0m \u001b[38;5;28;01mif\u001b[39;00m \u001b[38;5;28mself\u001b[39m\u001b[38;5;241m.\u001b[39m_compression \u001b[38;5;129;01mis\u001b[39;00m \u001b[38;5;129;01mnot\u001b[39;00m \u001b[38;5;28;01mNone\u001b[39;00m:\n\u001b[1;32m    129\u001b[0m     kwargs[\u001b[38;5;124m\"\u001b[39m\u001b[38;5;124mcompression\u001b[39m\u001b[38;5;124m\"\u001b[39m] \u001b[38;5;241m=\u001b[39m compression\n\u001b[0;32m--> 131\u001b[0m \u001b[38;5;28;01mreturn\u001b[39;00m \u001b[43mwrapped_func\u001b[49m\u001b[43m(\u001b[49m\u001b[38;5;241;43m*\u001b[39;49m\u001b[43margs\u001b[49m\u001b[43m,\u001b[49m\u001b[43m \u001b[49m\u001b[38;5;241;43m*\u001b[39;49m\u001b[38;5;241;43m*\u001b[39;49m\u001b[43mkwargs\u001b[49m\u001b[43m)\u001b[49m\n",
      "File \u001b[0;32m~/Library/Python/3.9/lib/python/site-packages/google/api_core/retry/retry_unary.py:293\u001b[0m, in \u001b[0;36mRetry.__call__.<locals>.retry_wrapped_func\u001b[0;34m(*args, **kwargs)\u001b[0m\n\u001b[1;32m    289\u001b[0m target \u001b[38;5;241m=\u001b[39m functools\u001b[38;5;241m.\u001b[39mpartial(func, \u001b[38;5;241m*\u001b[39margs, \u001b[38;5;241m*\u001b[39m\u001b[38;5;241m*\u001b[39mkwargs)\n\u001b[1;32m    290\u001b[0m sleep_generator \u001b[38;5;241m=\u001b[39m exponential_sleep_generator(\n\u001b[1;32m    291\u001b[0m     \u001b[38;5;28mself\u001b[39m\u001b[38;5;241m.\u001b[39m_initial, \u001b[38;5;28mself\u001b[39m\u001b[38;5;241m.\u001b[39m_maximum, multiplier\u001b[38;5;241m=\u001b[39m\u001b[38;5;28mself\u001b[39m\u001b[38;5;241m.\u001b[39m_multiplier\n\u001b[1;32m    292\u001b[0m )\n\u001b[0;32m--> 293\u001b[0m \u001b[38;5;28;01mreturn\u001b[39;00m \u001b[43mretry_target\u001b[49m\u001b[43m(\u001b[49m\n\u001b[1;32m    294\u001b[0m \u001b[43m    \u001b[49m\u001b[43mtarget\u001b[49m\u001b[43m,\u001b[49m\n\u001b[1;32m    295\u001b[0m \u001b[43m    \u001b[49m\u001b[38;5;28;43mself\u001b[39;49m\u001b[38;5;241;43m.\u001b[39;49m\u001b[43m_predicate\u001b[49m\u001b[43m,\u001b[49m\n\u001b[1;32m    296\u001b[0m \u001b[43m    \u001b[49m\u001b[43msleep_generator\u001b[49m\u001b[43m,\u001b[49m\n\u001b[1;32m    297\u001b[0m \u001b[43m    \u001b[49m\u001b[43mtimeout\u001b[49m\u001b[38;5;241;43m=\u001b[39;49m\u001b[38;5;28;43mself\u001b[39;49m\u001b[38;5;241;43m.\u001b[39;49m\u001b[43m_timeout\u001b[49m\u001b[43m,\u001b[49m\n\u001b[1;32m    298\u001b[0m \u001b[43m    \u001b[49m\u001b[43mon_error\u001b[49m\u001b[38;5;241;43m=\u001b[39;49m\u001b[43mon_error\u001b[49m\u001b[43m,\u001b[49m\n\u001b[1;32m    299\u001b[0m \u001b[43m\u001b[49m\u001b[43m)\u001b[49m\n",
      "File \u001b[0;32m~/Library/Python/3.9/lib/python/site-packages/google/api_core/retry/retry_unary.py:153\u001b[0m, in \u001b[0;36mretry_target\u001b[0;34m(target, predicate, sleep_generator, timeout, on_error, exception_factory, **kwargs)\u001b[0m\n\u001b[1;32m    149\u001b[0m \u001b[38;5;66;03m# pylint: disable=broad-except\u001b[39;00m\n\u001b[1;32m    150\u001b[0m \u001b[38;5;66;03m# This function explicitly must deal with broad exceptions.\u001b[39;00m\n\u001b[1;32m    151\u001b[0m \u001b[38;5;28;01mexcept\u001b[39;00m \u001b[38;5;167;01mException\u001b[39;00m \u001b[38;5;28;01mas\u001b[39;00m exc:\n\u001b[1;32m    152\u001b[0m     \u001b[38;5;66;03m# defer to shared logic for handling errors\u001b[39;00m\n\u001b[0;32m--> 153\u001b[0m     \u001b[43m_retry_error_helper\u001b[49m\u001b[43m(\u001b[49m\n\u001b[1;32m    154\u001b[0m \u001b[43m        \u001b[49m\u001b[43mexc\u001b[49m\u001b[43m,\u001b[49m\n\u001b[1;32m    155\u001b[0m \u001b[43m        \u001b[49m\u001b[43mdeadline\u001b[49m\u001b[43m,\u001b[49m\n\u001b[1;32m    156\u001b[0m \u001b[43m        \u001b[49m\u001b[43msleep\u001b[49m\u001b[43m,\u001b[49m\n\u001b[1;32m    157\u001b[0m \u001b[43m        \u001b[49m\u001b[43merror_list\u001b[49m\u001b[43m,\u001b[49m\n\u001b[1;32m    158\u001b[0m \u001b[43m        \u001b[49m\u001b[43mpredicate\u001b[49m\u001b[43m,\u001b[49m\n\u001b[1;32m    159\u001b[0m \u001b[43m        \u001b[49m\u001b[43mon_error\u001b[49m\u001b[43m,\u001b[49m\n\u001b[1;32m    160\u001b[0m \u001b[43m        \u001b[49m\u001b[43mexception_factory\u001b[49m\u001b[43m,\u001b[49m\n\u001b[1;32m    161\u001b[0m \u001b[43m        \u001b[49m\u001b[43mtimeout\u001b[49m\u001b[43m,\u001b[49m\n\u001b[1;32m    162\u001b[0m \u001b[43m    \u001b[49m\u001b[43m)\u001b[49m\n\u001b[1;32m    163\u001b[0m     \u001b[38;5;66;03m# if exception not raised, sleep before next attempt\u001b[39;00m\n\u001b[1;32m    164\u001b[0m     time\u001b[38;5;241m.\u001b[39msleep(sleep)\n",
      "File \u001b[0;32m~/Library/Python/3.9/lib/python/site-packages/google/api_core/retry/retry_base.py:212\u001b[0m, in \u001b[0;36m_retry_error_helper\u001b[0;34m(exc, deadline, next_sleep, error_list, predicate_fn, on_error_fn, exc_factory_fn, original_timeout)\u001b[0m\n\u001b[1;32m    206\u001b[0m \u001b[38;5;28;01mif\u001b[39;00m \u001b[38;5;129;01mnot\u001b[39;00m predicate_fn(exc):\n\u001b[1;32m    207\u001b[0m     final_exc, source_exc \u001b[38;5;241m=\u001b[39m exc_factory_fn(\n\u001b[1;32m    208\u001b[0m         error_list,\n\u001b[1;32m    209\u001b[0m         RetryFailureReason\u001b[38;5;241m.\u001b[39mNON_RETRYABLE_ERROR,\n\u001b[1;32m    210\u001b[0m         original_timeout,\n\u001b[1;32m    211\u001b[0m     )\n\u001b[0;32m--> 212\u001b[0m     \u001b[38;5;28;01mraise\u001b[39;00m final_exc \u001b[38;5;28;01mfrom\u001b[39;00m \u001b[38;5;21;01msource_exc\u001b[39;00m\n\u001b[1;32m    213\u001b[0m \u001b[38;5;28;01mif\u001b[39;00m on_error_fn \u001b[38;5;129;01mis\u001b[39;00m \u001b[38;5;129;01mnot\u001b[39;00m \u001b[38;5;28;01mNone\u001b[39;00m:\n\u001b[1;32m    214\u001b[0m     on_error_fn(exc)\n",
      "File \u001b[0;32m~/Library/Python/3.9/lib/python/site-packages/google/api_core/retry/retry_unary.py:144\u001b[0m, in \u001b[0;36mretry_target\u001b[0;34m(target, predicate, sleep_generator, timeout, on_error, exception_factory, **kwargs)\u001b[0m\n\u001b[1;32m    142\u001b[0m \u001b[38;5;28;01mfor\u001b[39;00m sleep \u001b[38;5;129;01min\u001b[39;00m sleep_generator:\n\u001b[1;32m    143\u001b[0m     \u001b[38;5;28;01mtry\u001b[39;00m:\n\u001b[0;32m--> 144\u001b[0m         result \u001b[38;5;241m=\u001b[39m \u001b[43mtarget\u001b[49m\u001b[43m(\u001b[49m\u001b[43m)\u001b[49m\n\u001b[1;32m    145\u001b[0m         \u001b[38;5;28;01mif\u001b[39;00m inspect\u001b[38;5;241m.\u001b[39misawaitable(result):\n\u001b[1;32m    146\u001b[0m             warnings\u001b[38;5;241m.\u001b[39mwarn(_ASYNC_RETRY_WARNING)\n",
      "File \u001b[0;32m~/Library/Python/3.9/lib/python/site-packages/google/api_core/timeout.py:120\u001b[0m, in \u001b[0;36mTimeToDeadlineTimeout.__call__.<locals>.func_with_timeout\u001b[0;34m(*args, **kwargs)\u001b[0m\n\u001b[1;32m    117\u001b[0m     \u001b[38;5;66;03m# Avoid setting negative timeout\u001b[39;00m\n\u001b[1;32m    118\u001b[0m     kwargs[\u001b[38;5;124m\"\u001b[39m\u001b[38;5;124mtimeout\u001b[39m\u001b[38;5;124m\"\u001b[39m] \u001b[38;5;241m=\u001b[39m \u001b[38;5;28mmax\u001b[39m(\u001b[38;5;241m0\u001b[39m, \u001b[38;5;28mself\u001b[39m\u001b[38;5;241m.\u001b[39m_timeout \u001b[38;5;241m-\u001b[39m time_since_first_attempt)\n\u001b[0;32m--> 120\u001b[0m \u001b[38;5;28;01mreturn\u001b[39;00m \u001b[43mfunc\u001b[49m\u001b[43m(\u001b[49m\u001b[38;5;241;43m*\u001b[39;49m\u001b[43margs\u001b[49m\u001b[43m,\u001b[49m\u001b[43m \u001b[49m\u001b[38;5;241;43m*\u001b[39;49m\u001b[38;5;241;43m*\u001b[39;49m\u001b[43mkwargs\u001b[49m\u001b[43m)\u001b[49m\n",
      "File \u001b[0;32m~/Library/Python/3.9/lib/python/site-packages/google/api_core/grpc_helpers.py:78\u001b[0m, in \u001b[0;36m_wrap_unary_errors.<locals>.error_remapped_callable\u001b[0;34m(*args, **kwargs)\u001b[0m\n\u001b[1;32m     76\u001b[0m     \u001b[38;5;28;01mreturn\u001b[39;00m callable_(\u001b[38;5;241m*\u001b[39margs, \u001b[38;5;241m*\u001b[39m\u001b[38;5;241m*\u001b[39mkwargs)\n\u001b[1;32m     77\u001b[0m \u001b[38;5;28;01mexcept\u001b[39;00m grpc\u001b[38;5;241m.\u001b[39mRpcError \u001b[38;5;28;01mas\u001b[39;00m exc:\n\u001b[0;32m---> 78\u001b[0m     \u001b[38;5;28;01mraise\u001b[39;00m exceptions\u001b[38;5;241m.\u001b[39mfrom_grpc_error(exc) \u001b[38;5;28;01mfrom\u001b[39;00m \u001b[38;5;21;01mexc\u001b[39;00m\n",
      "\u001b[0;31mDeadlineExceeded\u001b[0m: 504 Deadline Exceeded"
     ]
    }
   ],
   "source": [
    "alltopics=[]\n",
    "for idx in tqdm(range(desc.shape[0])):\n",
    "    reponame=desc.iloc[idx][\"repo\"]\n",
    "    rawtopics=getTopics(model, desc.iloc[idx][\"desc\"])\n",
    "    try:\n",
    "        topics=json.loads(re.findall(r\"\\{.*\\}\",rawtopics.text)[0])[\"main_topics\"]\n",
    "    except Exception as e:\n",
    "        pass\n",
    "    alltopics+=[[reponame,\",\".join(topics)]]   \n",
    "    \n",
    "    geminiTopic = pd.DataFrame(np.array(alltopics),columns=[\"repo\",\"topics\"])\n",
    "    geminiTopic.to_csv(\"geminiTopic.csv\")"
   ]
  },
  {
   "cell_type": "code",
   "execution_count": null,
   "id": "1fb2c25a-ec6a-4530-b38c-473dc6059bf8",
   "metadata": {},
   "outputs": [],
   "source": []
  },
  {
   "cell_type": "code",
   "execution_count": 99,
   "id": "32f9d0f2-0b95-4f2c-a62f-0878612a2042",
   "metadata": {},
   "outputs": [
    {
     "ename": "ParserError",
     "evalue": "Error tokenizing data. C error: Expected 3 fields in line 20, saw 5\n",
     "output_type": "error",
     "traceback": [
      "\u001b[0;31m---------------------------------------------------------------------------\u001b[0m",
      "\u001b[0;31mParserError\u001b[0m                               Traceback (most recent call last)",
      "Cell \u001b[0;32mIn[99], line 2\u001b[0m\n\u001b[1;32m      1\u001b[0m topicold\u001b[38;5;241m=\u001b[39mpd\u001b[38;5;241m.\u001b[39mread_csv(\u001b[38;5;124m\"\u001b[39m\u001b[38;5;124mout.csv\u001b[39m\u001b[38;5;124m\"\u001b[39m)\n\u001b[0;32m----> 2\u001b[0m topicold2\u001b[38;5;241m=\u001b[39m\u001b[43mpd\u001b[49m\u001b[38;5;241;43m.\u001b[39;49m\u001b[43mread_csv\u001b[49m\u001b[43m(\u001b[49m\u001b[38;5;124;43m\"\u001b[39;49m\u001b[38;5;124;43mdescription.csv\u001b[39;49m\u001b[38;5;124;43m\"\u001b[39;49m\u001b[43m)\u001b[49m\n",
      "File \u001b[0;32m~/Library/Python/3.9/lib/python/site-packages/pandas/io/parsers/readers.py:912\u001b[0m, in \u001b[0;36mread_csv\u001b[0;34m(filepath_or_buffer, sep, delimiter, header, names, index_col, usecols, dtype, engine, converters, true_values, false_values, skipinitialspace, skiprows, skipfooter, nrows, na_values, keep_default_na, na_filter, verbose, skip_blank_lines, parse_dates, infer_datetime_format, keep_date_col, date_parser, date_format, dayfirst, cache_dates, iterator, chunksize, compression, thousands, decimal, lineterminator, quotechar, quoting, doublequote, escapechar, comment, encoding, encoding_errors, dialect, on_bad_lines, delim_whitespace, low_memory, memory_map, float_precision, storage_options, dtype_backend)\u001b[0m\n\u001b[1;32m    899\u001b[0m kwds_defaults \u001b[38;5;241m=\u001b[39m _refine_defaults_read(\n\u001b[1;32m    900\u001b[0m     dialect,\n\u001b[1;32m    901\u001b[0m     delimiter,\n\u001b[0;32m   (...)\u001b[0m\n\u001b[1;32m    908\u001b[0m     dtype_backend\u001b[38;5;241m=\u001b[39mdtype_backend,\n\u001b[1;32m    909\u001b[0m )\n\u001b[1;32m    910\u001b[0m kwds\u001b[38;5;241m.\u001b[39mupdate(kwds_defaults)\n\u001b[0;32m--> 912\u001b[0m \u001b[38;5;28;01mreturn\u001b[39;00m \u001b[43m_read\u001b[49m\u001b[43m(\u001b[49m\u001b[43mfilepath_or_buffer\u001b[49m\u001b[43m,\u001b[49m\u001b[43m \u001b[49m\u001b[43mkwds\u001b[49m\u001b[43m)\u001b[49m\n",
      "File \u001b[0;32m~/Library/Python/3.9/lib/python/site-packages/pandas/io/parsers/readers.py:583\u001b[0m, in \u001b[0;36m_read\u001b[0;34m(filepath_or_buffer, kwds)\u001b[0m\n\u001b[1;32m    580\u001b[0m     \u001b[38;5;28;01mreturn\u001b[39;00m parser\n\u001b[1;32m    582\u001b[0m \u001b[38;5;28;01mwith\u001b[39;00m parser:\n\u001b[0;32m--> 583\u001b[0m     \u001b[38;5;28;01mreturn\u001b[39;00m \u001b[43mparser\u001b[49m\u001b[38;5;241;43m.\u001b[39;49m\u001b[43mread\u001b[49m\u001b[43m(\u001b[49m\u001b[43mnrows\u001b[49m\u001b[43m)\u001b[49m\n",
      "File \u001b[0;32m~/Library/Python/3.9/lib/python/site-packages/pandas/io/parsers/readers.py:1704\u001b[0m, in \u001b[0;36mTextFileReader.read\u001b[0;34m(self, nrows)\u001b[0m\n\u001b[1;32m   1697\u001b[0m nrows \u001b[38;5;241m=\u001b[39m validate_integer(\u001b[38;5;124m\"\u001b[39m\u001b[38;5;124mnrows\u001b[39m\u001b[38;5;124m\"\u001b[39m, nrows)\n\u001b[1;32m   1698\u001b[0m \u001b[38;5;28;01mtry\u001b[39;00m:\n\u001b[1;32m   1699\u001b[0m     \u001b[38;5;66;03m# error: \"ParserBase\" has no attribute \"read\"\u001b[39;00m\n\u001b[1;32m   1700\u001b[0m     (\n\u001b[1;32m   1701\u001b[0m         index,\n\u001b[1;32m   1702\u001b[0m         columns,\n\u001b[1;32m   1703\u001b[0m         col_dict,\n\u001b[0;32m-> 1704\u001b[0m     ) \u001b[38;5;241m=\u001b[39m \u001b[38;5;28;43mself\u001b[39;49m\u001b[38;5;241;43m.\u001b[39;49m\u001b[43m_engine\u001b[49m\u001b[38;5;241;43m.\u001b[39;49m\u001b[43mread\u001b[49m\u001b[43m(\u001b[49m\u001b[43m  \u001b[49m\u001b[38;5;66;43;03m# type: ignore[attr-defined]\u001b[39;49;00m\n\u001b[1;32m   1705\u001b[0m \u001b[43m        \u001b[49m\u001b[43mnrows\u001b[49m\n\u001b[1;32m   1706\u001b[0m \u001b[43m    \u001b[49m\u001b[43m)\u001b[49m\n\u001b[1;32m   1707\u001b[0m \u001b[38;5;28;01mexcept\u001b[39;00m \u001b[38;5;167;01mException\u001b[39;00m:\n\u001b[1;32m   1708\u001b[0m     \u001b[38;5;28mself\u001b[39m\u001b[38;5;241m.\u001b[39mclose()\n",
      "File \u001b[0;32m~/Library/Python/3.9/lib/python/site-packages/pandas/io/parsers/c_parser_wrapper.py:234\u001b[0m, in \u001b[0;36mCParserWrapper.read\u001b[0;34m(self, nrows)\u001b[0m\n\u001b[1;32m    232\u001b[0m \u001b[38;5;28;01mtry\u001b[39;00m:\n\u001b[1;32m    233\u001b[0m     \u001b[38;5;28;01mif\u001b[39;00m \u001b[38;5;28mself\u001b[39m\u001b[38;5;241m.\u001b[39mlow_memory:\n\u001b[0;32m--> 234\u001b[0m         chunks \u001b[38;5;241m=\u001b[39m \u001b[38;5;28;43mself\u001b[39;49m\u001b[38;5;241;43m.\u001b[39;49m\u001b[43m_reader\u001b[49m\u001b[38;5;241;43m.\u001b[39;49m\u001b[43mread_low_memory\u001b[49m\u001b[43m(\u001b[49m\u001b[43mnrows\u001b[49m\u001b[43m)\u001b[49m\n\u001b[1;32m    235\u001b[0m         \u001b[38;5;66;03m# destructive to chunks\u001b[39;00m\n\u001b[1;32m    236\u001b[0m         data \u001b[38;5;241m=\u001b[39m _concatenate_chunks(chunks)\n",
      "File \u001b[0;32m~/Library/Python/3.9/lib/python/site-packages/pandas/_libs/parsers.pyx:814\u001b[0m, in \u001b[0;36mpandas._libs.parsers.TextReader.read_low_memory\u001b[0;34m()\u001b[0m\n",
      "File \u001b[0;32m~/Library/Python/3.9/lib/python/site-packages/pandas/_libs/parsers.pyx:875\u001b[0m, in \u001b[0;36mpandas._libs.parsers.TextReader._read_rows\u001b[0;34m()\u001b[0m\n",
      "File \u001b[0;32m~/Library/Python/3.9/lib/python/site-packages/pandas/_libs/parsers.pyx:850\u001b[0m, in \u001b[0;36mpandas._libs.parsers.TextReader._tokenize_rows\u001b[0;34m()\u001b[0m\n",
      "File \u001b[0;32m~/Library/Python/3.9/lib/python/site-packages/pandas/_libs/parsers.pyx:861\u001b[0m, in \u001b[0;36mpandas._libs.parsers.TextReader._check_tokenize_status\u001b[0;34m()\u001b[0m\n",
      "File \u001b[0;32m~/Library/Python/3.9/lib/python/site-packages/pandas/_libs/parsers.pyx:2029\u001b[0m, in \u001b[0;36mpandas._libs.parsers.raise_parser_error\u001b[0;34m()\u001b[0m\n",
      "\u001b[0;31mParserError\u001b[0m: Error tokenizing data. C error: Expected 3 fields in line 20, saw 5\n"
     ]
    }
   ],
   "source": [
    "topicold=pd.read_csv(\"out.csv\")\n",
    "topicold2=pd.read_csv(\"description.csv\")"
   ]
  },
  {
   "cell_type": "code",
   "execution_count": 97,
   "id": "4805d7ee-7767-481b-9fb4-dc7af84116e7",
   "metadata": {},
   "outputs": [
    {
     "data": {
      "text/plain": [
       "69310"
      ]
     },
     "execution_count": 97,
     "metadata": {},
     "output_type": "execute_result"
    }
   ],
   "source": [
    "len(list(set(topicold[\"topics\"].tolist())))"
   ]
  },
  {
   "cell_type": "code",
   "execution_count": 98,
   "id": "e2a1d3ca-7f71-41f4-a6c5-44710a75268a",
   "metadata": {},
   "outputs": [
    {
     "data": {
      "text/plain": [
       "(69532, 3)"
      ]
     },
     "execution_count": 98,
     "metadata": {},
     "output_type": "execute_result"
    }
   ],
   "source": [
    "topicold.shape"
   ]
  },
  {
   "cell_type": "code",
   "execution_count": null,
   "id": "e4041eb1-edc1-4c73-b201-1490fcc6becd",
   "metadata": {},
   "outputs": [],
   "source": []
  }
 ],
 "metadata": {
  "kernelspec": {
   "display_name": "Python 3 (ipykernel)",
   "language": "python",
   "name": "python3"
  },
  "language_info": {
   "codemirror_mode": {
    "name": "ipython",
    "version": 3
   },
   "file_extension": ".py",
   "mimetype": "text/x-python",
   "name": "python",
   "nbconvert_exporter": "python",
   "pygments_lexer": "ipython3",
   "version": "3.9.6"
  }
 },
 "nbformat": 4,
 "nbformat_minor": 5
}
